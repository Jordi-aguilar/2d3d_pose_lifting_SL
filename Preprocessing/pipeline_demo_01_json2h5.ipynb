{
 "cells": [
  {
   "cell_type": "markdown",
   "metadata": {},
   "source": [
    "# Approach for 3D coordinates"
   ]
  },
  {
   "cell_type": "code",
   "execution_count": null,
   "metadata": {},
   "outputs": [],
   "source": [
    "import os\n",
    "import json\n",
    "import numpy as np\n",
    "from zipfile import ZipFile"
   ]
  },
  {
   "cell_type": "code",
   "execution_count": null,
   "metadata": {},
   "outputs": [],
   "source": [
    "#from files\n",
    "from walkDir import walkDir"
   ]
  },
  {
   "cell_type": "code",
   "execution_count": null,
   "metadata": {},
   "outputs": [],
   "source": [
    "def get_ids(path, folder):\n",
    "    frames = walkDirZip(path = path, interested_folder = folder)\n",
    "    frames = [frame.split(\"/\")[-1] for frame in frames]\n",
    "    ids = [frame.split(\"_\")[-1].split(\".\")[0].replace('hd', '') for frame in frames]\n",
    "    ids.sort()\n",
    "    return ids\n",
    "\n",
    "\n",
    "def get_frames(path):\n",
    "    pose = 'hdPose3d_stage1_op25/'\n",
    "    hands = 'hdHand3d/'\n",
    "    frames_pose = walkDir(dname = path + pose, filt = r\"\\.json$\")\n",
    "    frames_hands = walkDir(dname = path + hands, filt = r\"\\.json$\")\n",
    "    frames_pose.sort()\n",
    "    frames_hands.sort()\n",
    "    return frames_pose, frames_hands\n",
    "\n",
    "def selectPointsPose(points, keepThis):\n",
    "    points2 = []\n",
    "    for i in keepThis:\n",
    "        points2.append(points[4 * i + 0])\n",
    "        points2.append(points[4 * i + 1])\n",
    "        points2.append(points[4 * i + 2])\n",
    "        confidence_score = max(0, points[4 * i + 3]) #Set confidence values of -1 to 0\n",
    "        points2.append(confidence_score)\n",
    "    return points2\n",
    "\n",
    "def selectPointsHands(points, confidence, keepThis):\n",
    "    points2 = []\n",
    "    for i in keepThis:\n",
    "        points2.append(points[3 * i + 0])\n",
    "        points2.append(points[3 * i + 1])\n",
    "        points2.append(points[3 * i + 2])\n",
    "        confidence_score = max(0, confidence[i]) #Set confidence values of -1 to 0\n",
    "        points2.append(confidence_score)\n",
    "        if points2[-1] == -1:\n",
    "            print(\"Ai mareta\")\n",
    "    return points2\n",
    "\n",
    "def noNones(l):\n",
    "    l2 = []\n",
    "    for i in l:\n",
    "        if not i is None:\n",
    "            l2.append(i)\n",
    "    return l2\n",
    "\n",
    "def walkDirZip(path, interested_folder):\n",
    "    with ZipFile(path, 'r') as zip:\n",
    "        list_dir = zip.namelist()\n",
    "    frames = []\n",
    "    for file in list_dir:\n",
    "        path = file.split('/')\n",
    "        if path[1] in interested_folder and len(path) > 2 and path[-1][-4:] == 'json':\n",
    "            frames.append(file)\n",
    "    \n",
    "    return frames\n",
    "\n",
    "\n",
    "def get_frames_zip(path):\n",
    "    pose = 'hdPose3d_stage1_op25'\n",
    "    hands = 'hdHand3d'\n",
    "    frames_pose = walkDirZip(path = path, interested_folder = pose)\n",
    "    frames_hands = walkDirZip(path = path, interested_folder = hands)\n",
    "    frames_pose.sort()\n",
    "    frames_hands.sort()\n",
    "    return frames_pose, frames_hands"
   ]
  },
  {
   "cell_type": "code",
   "execution_count": null,
   "metadata": {},
   "outputs": [],
   "source": [
    "def loadData(dname):\n",
    "    \n",
    "    pose_ids = get_ids(dname, 'hdPose3d_stage1_op25/')\n",
    "    hands_ids = get_ids(dname, 'hdHand3d/')\n",
    "    \n",
    "    #if pose_ids != hands_ids:\n",
    "    #    raise ValueError(f\"Number of frames of pose and hands do not match {len(pose_ids)}, {len(hands_ids)}\")\n",
    "        \n",
    "    pose_fnames, hands_fnames = get_frames_zip(dname)\n",
    "    \n",
    "    frames = [None for _ in range(len(pose_fnames))]\n",
    "    #for i, (framepose, framehands) in enumerate(zip(pose_fnames, hands_fnames)):\n",
    "    i = 0\n",
    "    idx_pose = 0\n",
    "    idx_hand = 0\n",
    "    with ZipFile(dname, 'r') as zip:\n",
    "        while idx_pose < len(pose_fnames) and idx_hand < len(hands_fnames):\n",
    "            if pose_ids[idx_pose] == hands_ids[idx_hand]:\n",
    "                data_pose = json.loads(zip.read(pose_fnames[idx_pose]))\n",
    "                #with open(framepose) as json_data:\n",
    "                #    data_pose = json.load(json_data)\n",
    "\n",
    "                data_hands = json.loads(zip.read(hands_fnames[idx_hand]))\n",
    "                #with open(framehands) as json_data:\n",
    "                #    data_hands = json.load(json_data)\n",
    "\n",
    "                #read body coordinates\n",
    "                pointsP = None\n",
    "                for person in data_pose['bodies']:\n",
    "                    if str(person['id']) == '0':\n",
    "                        pointsP = np.array(person['joints26'])\n",
    "\n",
    "                #read hands coordinates\n",
    "                pointsLH = None\n",
    "                confidenceLH = None\n",
    "                pointsRH = None\n",
    "                confidenceRH = None\n",
    "                for person in data_hands['people']:\n",
    "                    if str(person['id']) == '0':\n",
    "                        if 'left_hand' in person.keys():\n",
    "                            pointsLH = np.array(person['left_hand']['landmarks'])\n",
    "                            confidenceLH = np.array(person['left_hand']['averageScore'])\n",
    "\n",
    "                        if 'right_hand' in person.keys():\n",
    "                            pointsRH = np.array(person['right_hand']['landmarks'])\n",
    "                            confidenceRH = np.array(person['right_hand']['averageScore'])\n",
    "\n",
    "                # idxsPose = [0, 1, 2, 3, 4, 5, 6, 7]\n",
    "                # idxsPose = [1, 0, 3, 4, 5, 9, 10, 11]\n",
    "                idxsPose = range(25)\n",
    "                idxsHand = range(21)\n",
    "\n",
    "                if pointsP is None:\n",
    "                    pointsP = 4 * 25 * [0.0]\n",
    "                if pointsLH is None:\n",
    "                    pointsLH = 4 * len(idxsHand) * [0.0]\n",
    "                if pointsRH is None:\n",
    "                    pointsRH = 4 * len(idxsHand) * [0.0]\n",
    "                if confidenceLH is None:\n",
    "                    confidenceLH = len(idxsHand) * [0.0]\n",
    "                if confidenceRH is None:\n",
    "                    confidenceRH = len(idxsHand) * [0.0]\n",
    "\n",
    "\n",
    "                pointsP = selectPointsPose(pointsP, idxsPose)\n",
    "                pointsLH = selectPointsHands(pointsLH, confidenceLH, idxsHand)\n",
    "                pointsRH = selectPointsHands(pointsRH, confidenceRH, idxsHand)\n",
    "                points = pointsP + pointsRH + pointsLH\n",
    "\n",
    "                if not points[0] == 0.0:\n",
    "                    frames[i] = points\n",
    "\n",
    "                i += 1\n",
    "                idx_pose += 1\n",
    "                idx_hand += 1\n",
    "\n",
    "            elif pose_ids[idx_pose] < hands_ids[idx_hand]:\n",
    "                #print(\"misalignment\", pose_ids[idx_pose], hands_ids[idx_hand], idx_pose, idx_hand)\n",
    "                idx_pose += 1\n",
    "\n",
    "            else:\n",
    "                #print(\"misalignment\", pose_ids[idx_pose], hands_ids[idx_hand], idx_pose, idx_hand)\n",
    "                idx_hand += 1\n",
    "        \n",
    "\n",
    "    return np.asarray(noNones(frames), dtype=\"float32\")"
   ]
  },
  {
   "cell_type": "code",
   "execution_count": null,
   "metadata": {},
   "outputs": [],
   "source": [
    "data_dir = \"/mnt/cephfs/How2Sign/panoptic_data/\"\n",
    "zip_folders = [file for file in os.listdir(data_dir) if file[-4:] == '.zip'] #'190425_asl10.zip'\n",
    "\n",
    "output_path = \"../Data/preprocessed_01/\"\n",
    "\n",
    "for zip_folder in zip_folders:\n",
    "    print(\"Loading \", zip_folder)\n",
    "    data_01 = loadData(data_dir + zip_folder)\n",
    "\n",
    "    current_file = zip_folder[:-4]\n",
    "    with open(output_path + '/' + current_file + '.npy', 'wb') as f:\n",
    "        np.save(f, data_01)\n",
    "        \n",
    "    print(\"Done!\")"
   ]
  },
  {
   "cell_type": "code",
   "execution_count": null,
   "metadata": {},
   "outputs": [],
   "source": []
  },
  {
   "cell_type": "code",
   "execution_count": null,
   "metadata": {},
   "outputs": [],
   "source": [
    "fnameIn = \"../Data/preprocessed_01/\"\n",
    "with open(fnameIn + \"190425_asl10.npy\", 'rb') as f:\n",
    "    a = np.load(f)"
   ]
  },
  {
   "cell_type": "code",
   "execution_count": null,
   "metadata": {},
   "outputs": [],
   "source": [
    "len(a[0])"
   ]
  },
  {
   "cell_type": "code",
   "execution_count": null,
   "metadata": {},
   "outputs": [],
   "source": [
    "data_01.shape"
   ]
  },
  {
   "cell_type": "code",
   "execution_count": null,
   "metadata": {},
   "outputs": [],
   "source": [
    "date_dir = \"/mnt/cephfs/How2Sign/panoptic_data/\"\n",
    "\n",
    "zip_folders = [file for file in os.listdir(date_dir) if file[-3:] == 'zip'] #'190425_asl10.zip'"
   ]
  },
  {
   "cell_type": "markdown",
   "metadata": {},
   "source": [
    "### Additional txt file \"lrSwitchedFrames\""
   ]
  },
  {
   "cell_type": "code",
   "execution_count": null,
   "metadata": {},
   "outputs": [],
   "source": [
    "!cat ~/clean_data/190611_asl2/hdHand3d/lrSwitchedFrames.txt"
   ]
  },
  {
   "cell_type": "code",
   "execution_count": null,
   "metadata": {},
   "outputs": [],
   "source": [
    "!cat ~/clean_data/190611_asl2/hdHand3d/handRecon3D_hd00008099.json"
   ]
  },
  {
   "cell_type": "code",
   "execution_count": null,
   "metadata": {},
   "outputs": [],
   "source": []
  }
 ],
 "metadata": {
  "kernelspec": {
   "display_name": "Python 3",
   "language": "python",
   "name": "python3"
  },
  "language_info": {
   "codemirror_mode": {
    "name": "ipython",
    "version": 3
   },
   "file_extension": ".py",
   "mimetype": "text/x-python",
   "name": "python",
   "nbconvert_exporter": "python",
   "pygments_lexer": "ipython3",
   "version": "3.6.9"
  }
 },
 "nbformat": 4,
 "nbformat_minor": 4
}
