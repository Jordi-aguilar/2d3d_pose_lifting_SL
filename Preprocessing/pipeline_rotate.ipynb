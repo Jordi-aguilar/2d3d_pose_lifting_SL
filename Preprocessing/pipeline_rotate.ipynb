{
 "cells": [
  {
   "cell_type": "code",
   "execution_count": null,
   "metadata": {},
   "outputs": [],
   "source": [
    "import numpy as np\n",
    "import os"
   ]
  },
  {
   "cell_type": "code",
   "execution_count": null,
   "metadata": {},
   "outputs": [],
   "source": [
    "#import from files\n",
    "import plot_skeleton_BH\n",
    "import rotate_skeleton"
   ]
  },
  {
   "cell_type": "markdown",
   "metadata": {},
   "source": [
    "Files are already loaded at '../Data/Preprocessed_CZ/' using 'Preprocessing/pipeline_demo_{01,02}_json2h5.ipynb'"
   ]
  },
  {
   "cell_type": "code",
   "execution_count": null,
   "metadata": {},
   "outputs": [],
   "source": [
    "path_videos = '../Data/Preprocessed_CZ/'\n",
    "list_videos = os.listdir(path_videos)\n",
    "videos_data = []"
   ]
  },
  {
   "cell_type": "code",
   "execution_count": null,
   "metadata": {},
   "outputs": [],
   "source": [
    "path_video = path_videos + list_videos[0]\n",
    "video = np.load(path_video)\n"
   ]
  },
  {
   "cell_type": "code",
   "execution_count": null,
   "metadata": {},
   "outputs": [],
   "source": [
    "output_path = \"../Data/CZ_Rotated/\""
   ]
  },
  {
   "cell_type": "code",
   "execution_count": null,
   "metadata": {},
   "outputs": [],
   "source": [
    "confidence = False"
   ]
  },
  {
   "cell_type": "code",
   "execution_count": null,
   "metadata": {},
   "outputs": [],
   "source": [
    "if not confidence:\n",
    "    videos_rotated_data = []\n",
    "    for name_video in list_videos:\n",
    "        # load video\n",
    "        path_video = path_videos + name_video\n",
    "        video = np.load(path_video)\n",
    "\n",
    "        reshaped_video = video.reshape(-1, 67, 3)\n",
    "        \n",
    "        rot_xyz_vec = np.zeros(reshaped_video.shape)\n",
    "\n",
    "        for i in range(reshaped_video.shape[0]):\n",
    "            # print(reshaped_video[i,:,:])\n",
    "            rot_xyz_vec[i,:,:] = rotate_skeleton.rotate_skeleton(reshaped_video[i,:,:])\n",
    "            # print(\"..........\")\n",
    "\n",
    "\n",
    "        rot_xyz_vec = rot_xyz_vec.reshape(-1, 3*67)\n",
    "\n",
    "        print(name_video, output_path)\n",
    "        output_path_video = output_path + name_video\n",
    "        with open(output_path_video, 'wb') as f:\n",
    "            np.save(f, rot_xyz_vec)"
   ]
  },
  {
   "cell_type": "code",
   "execution_count": null,
   "metadata": {},
   "outputs": [],
   "source": []
  },
  {
   "cell_type": "code",
   "execution_count": null,
   "metadata": {},
   "outputs": [],
   "source": []
  },
  {
   "cell_type": "code",
   "execution_count": null,
   "metadata": {},
   "outputs": [],
   "source": [
    "def reshape_conf(vid):\n",
    "    vid = vid.reshape(-1,3)\n",
    "    rows, cols = vid.shape\n",
    "    vid_empty = np.zeros((rows, cols+1))\n",
    "    vid_empty[:,:-1] = vid\n",
    "    return vid_empty"
   ]
  },
  {
   "cell_type": "code",
   "execution_count": null,
   "metadata": {
    "scrolled": false
   },
   "outputs": [],
   "source": [
    "plot_skeleton_BH.plot_3D_skeleton(reshape_conf(rot_xyz_vec[1]).flatten())"
   ]
  },
  {
   "cell_type": "code",
   "execution_count": null,
   "metadata": {},
   "outputs": [],
   "source": []
  },
  {
   "cell_type": "code",
   "execution_count": null,
   "metadata": {},
   "outputs": [],
   "source": []
  },
  {
   "cell_type": "markdown",
   "metadata": {},
   "source": [
    "Repeat same procedure but with  unpreprocessed data (NOT Preprocessed_CZ but preprocessed_01)"
   ]
  },
  {
   "cell_type": "code",
   "execution_count": null,
   "metadata": {},
   "outputs": [],
   "source": []
  },
  {
   "cell_type": "code",
   "execution_count": null,
   "metadata": {},
   "outputs": [],
   "source": [
    "path_videos = '../Data/preprocessed_01/'\n",
    "list_videos = os.listdir(path_videos)\n",
    "videos_data = []"
   ]
  },
  {
   "cell_type": "code",
   "execution_count": null,
   "metadata": {},
   "outputs": [],
   "source": [
    "path_video = path_videos + list_videos[0]\n",
    "video = np.load(path_video)\n"
   ]
  },
  {
   "cell_type": "code",
   "execution_count": null,
   "metadata": {},
   "outputs": [],
   "source": [
    "output_path = \"../Data/Rotated/\""
   ]
  },
  {
   "cell_type": "code",
   "execution_count": null,
   "metadata": {},
   "outputs": [],
   "source": [
    "confidence = True"
   ]
  },
  {
   "cell_type": "code",
   "execution_count": null,
   "metadata": {},
   "outputs": [],
   "source": [
    "if confidence:\n",
    "    videos_rotated_data = []\n",
    "    for name_video in list_videos:\n",
    "        # load video\n",
    "        path_video = path_videos + name_video\n",
    "        video = np.load(path_video)\n",
    "\n",
    "        reshaped_video = video.reshape(-1, 67, 4)\n",
    "        reshaped_video_noconfidence = reshaped_video[:,:,:3]\n",
    "        confidence = reshaped_video[:,:,3:]\n",
    "\n",
    "        rot_xyz_vec = np.zeros(reshaped_video_noconfidence.shape)\n",
    "\n",
    "        for i in range(reshaped_video_noconfidence.shape[0]):\n",
    "            # print(reshaped_video[i,:,:])\n",
    "            rot_xyz_vec[i,:,:] = rotate_skeleton.rotate_skeleton(reshaped_video_noconfidence[i,:,:])\n",
    "            # print(\"..........\")\n",
    "\n",
    "\n",
    "        rot_xyz_vec = np.concatenate((rot_xyz_vec, confidence), 2)\n",
    "        rot_xyz_vec = rot_xyz_vec.reshape(-1, 4*67)\n",
    "\n",
    "        print(name_video, output_path)\n",
    "        output_path_video = output_path + name_video\n",
    "        with open(output_path_video, 'wb') as f:\n",
    "            np.save(f, rot_xyz_vec)\n",
    "    "
   ]
  },
  {
   "cell_type": "code",
   "execution_count": null,
   "metadata": {},
   "outputs": [],
   "source": []
  }
 ],
 "metadata": {
  "kernelspec": {
   "display_name": "Python 3",
   "language": "python",
   "name": "python3"
  },
  "language_info": {
   "codemirror_mode": {
    "name": "ipython",
    "version": 3
   },
   "file_extension": ".py",
   "mimetype": "text/x-python",
   "name": "python",
   "nbconvert_exporter": "python",
   "pygments_lexer": "ipython3",
   "version": "3.6.9"
  }
 },
 "nbformat": 4,
 "nbformat_minor": 4
}
